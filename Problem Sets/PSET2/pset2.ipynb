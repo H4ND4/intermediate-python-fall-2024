{
 "cells": [
  {
   "cell_type": "markdown",
   "metadata": {},
   "source": [
    "# PSET2 - Software Engineering for DS"
   ]
  },
  {
   "cell_type": "markdown",
   "metadata": {},
   "source": [
    "This problem set is very open ended. You will create a local package and then demonstrate its use. This package has the following requirements:\n",
    "\n",
    "- The package should have a focus or direction (i.e. it shouldn't be a random collection of functions).\n",
    "- There should be at least three functions/methods in the package.\n",
    "- Each function should have a clear docstring.\n",
    "\n",
    "Good luck!"
   ]
  },
  {
   "cell_type": "code",
   "execution_count": 1,
   "metadata": {},
   "outputs": [
    {
     "name": "stdout",
     "output_type": "stream",
     "text": [
      "Mammals species: ['Lion', 'Elephant', 'Tiger', 'Bear']\n",
      "Mammals species after adding Panda: ['Lion', 'Elephant', 'Tiger', 'Bear', 'Panda']\n",
      "Birds species: ['Eagle', 'Parrot', 'Penguin', 'Owl']\n",
      "Birds species after adding Flamingo: ['Eagle', 'Parrot', 'Penguin', 'Owl', 'Flamingo']\n",
      "Reptiles species: ['Crocodile', 'Lizard', 'Snake', 'Turtle']\n",
      "Reptiles species after adding Gecko: ['Crocodile', 'Lizard', 'Snake', 'Turtle', 'Gecko']\n"
     ]
    }
   ],
   "source": [
    "# Step 2: Importing the Package\n",
    "from animals import Mammals, Birds, Reptiles\n",
    "\n",
    "# Demonstrating the Mammals class\n",
    "mammals = Mammals()\n",
    "print(\"Mammals species:\", mammals.outSpecies())\n",
    "mammals.addSpecies('Panda')\n",
    "print(\"Mammals species after adding Panda:\", mammals.outSpecies())\n",
    "\n",
    "# Demonstrating the Birds class\n",
    "birds = Birds()\n",
    "print(\"Birds species:\", birds.outSpecies())\n",
    "birds.addSpecies('Flamingo')\n",
    "print(\"Birds species after adding Flamingo:\", birds.outSpecies())\n",
    "\n",
    "# Demonstrating the Reptiles class\n",
    "reptiles = Reptiles()\n",
    "print(\"Reptiles species:\", reptiles.outSpecies())\n",
    "reptiles.addSpecies('Gecko')\n",
    "print(\"Reptiles species after adding Gecko:\", reptiles.outSpecies())\n"
   ]
  },
  {
   "cell_type": "code",
   "execution_count": 13,
   "metadata": {},
   "outputs": [
    {
     "name": "stderr",
     "output_type": "stream",
     "text": [
      "......"
     ]
    },
    {
     "name": "stdout",
     "output_type": "stream",
     "text": [
      "Big test started \n",
      "\n",
      "setUp\n",
      "test_birds_addSpecies\n",
      "tearDown \n",
      "\n",
      "setUp\n",
      "test_birds_outSpecies\n",
      "tearDown \n",
      "\n",
      "setUp\n",
      "test_mammals_addSpecies\n",
      "tearDown \n",
      "\n",
      "setUp\n",
      "test_mammals_outSpecies\n",
      "tearDown \n",
      "\n",
      "setUp\n",
      "test_reptiles_addSpecies\n",
      "tearDown \n",
      "\n",
      "setUp\n",
      "test_reptiles_outSpecies\n",
      "tearDown \n",
      "\n",
      "Big test ended\n"
     ]
    },
    {
     "name": "stderr",
     "output_type": "stream",
     "text": [
      "\n",
      "----------------------------------------------------------------------\n",
      "Ran 6 tests in 0.036s\n",
      "\n",
      "OK\n"
     ]
    }
   ],
   "source": [
    "# Your code here\n",
    "import unittest\n",
    "from animals import Mammals, Birds, Reptiles\n",
    "\n",
    "class TestAnimals(unittest.TestCase):\n",
    "\n",
    "    @classmethod\n",
    "    def setUpClass(cls):\n",
    "        print(\"Big test started \\n\")\n",
    "\n",
    "    @classmethod\n",
    "    def tearDownClass(cls):\n",
    "        print(\"Big test ended\")\n",
    "\n",
    "    def setUp(self):\n",
    "        print(\"setUp\")\n",
    "        self.mammals = Mammals()\n",
    "        self.birds = Birds()\n",
    "        self.reptiles = Reptiles()\n",
    "\n",
    "    def tearDown(self):\n",
    "        print(\"tearDown \\n\")\n",
    "\n",
    "    def test_mammals_outSpecies(self):\n",
    "        print(\"test_mammals_outSpecies\")\n",
    "        self.assertEqual(self.mammals.outSpecies(), ['Lion', 'Elephant', 'Tiger', 'Bear'])\n",
    "\n",
    "    def test_mammals_addSpecies(self):\n",
    "        print(\"test_mammals_addSpecies\")\n",
    "        self.mammals.addSpecies('Panda')\n",
    "        self.assertEqual(self.mammals.outSpecies(), ['Lion', 'Elephant', 'Tiger', 'Bear', 'Panda'])\n",
    "\n",
    "    def test_birds_outSpecies(self):\n",
    "        print(\"test_birds_outSpecies\")\n",
    "        self.assertEqual(self.birds.outSpecies(), ['Eagle', 'Parrot', 'Penguin', 'Owl'])\n",
    "\n",
    "    def test_birds_addSpecies(self):\n",
    "        print(\"test_birds_addSpecies\")\n",
    "        self.birds.addSpecies('Flamingo')\n",
    "        self.assertEqual(self.birds.outSpecies(), ['Eagle', 'Parrot', 'Penguin', 'Owl', 'Flamingo'])\n",
    "\n",
    "    def test_reptiles_outSpecies(self):\n",
    "        print(\"test_reptiles_outSpecies\")\n",
    "        self.assertEqual(self.reptiles.outSpecies(), ['Crocodile', 'Lizard', 'Snake', 'Turtle'])\n",
    "\n",
    "    def test_reptiles_addSpecies(self):\n",
    "        print(\"test_reptiles_addSpecies\")\n",
    "        self.reptiles.addSpecies('Gecko')\n",
    "        self.assertEqual(self.reptiles.outSpecies(), ['Crocodile', 'Lizard', 'Snake', 'Turtle', 'Gecko'])\n",
    "\n",
    "# Run the tests\n",
    "if __name__ == '__main__':\n",
    "    unittest.main(argv=['first-arg-is-ignored'], exit=False)"
   ]
  },
  {
   "cell_type": "code",
   "execution_count": 14,
   "metadata": {},
   "outputs": [
    {
     "name": "stderr",
     "output_type": "stream",
     "text": [
      "......\n",
      "----------------------------------------------------------------------\n",
      "Ran 6 tests in 0.001s\n",
      "\n",
      "OK\n"
     ]
    }
   ],
   "source": [
    "# Run unit tests from test_animals.py\n",
    "!python test_animals.py"
   ]
  },
  {
   "cell_type": "code",
   "execution_count": null,
   "metadata": {},
   "outputs": [],
   "source": [
    "!python animals.py"
   ]
  },
  {
   "cell_type": "code",
   "execution_count": null,
   "metadata": {},
   "outputs": [],
   "source": []
  }
 ],
 "metadata": {
  "kernelspec": {
   "display_name": "Python 3 (ipykernel)",
   "language": "python",
   "name": "python3"
  },
  "language_info": {
   "codemirror_mode": {
    "name": "ipython",
    "version": 3
   },
   "file_extension": ".py",
   "mimetype": "text/x-python",
   "name": "python",
   "nbconvert_exporter": "python",
   "pygments_lexer": "ipython3",
   "version": "3.8.17"
  },
  "widgets": {
   "application/vnd.jupyter.widget-state+json": {
    "state": {},
    "version_major": 2,
    "version_minor": 0
   }
  }
 },
 "nbformat": 4,
 "nbformat_minor": 4
}
