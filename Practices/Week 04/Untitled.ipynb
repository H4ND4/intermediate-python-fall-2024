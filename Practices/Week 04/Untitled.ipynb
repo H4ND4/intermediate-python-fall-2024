{
 "cells": [
  {
   "cell_type": "code",
   "execution_count": 6,
   "id": "95a19fc9-7cde-4258-85d2-85264caf5611",
   "metadata": {},
   "outputs": [],
   "source": [
    "import pandas as pd\n",
    "#import dataframe_cleaner\n",
    "import dataframe_cleaner as dc"
   ]
  },
  {
   "cell_type": "code",
   "execution_count": 7,
   "id": "f12f543d-fa7b-44f9-99f9-436c8eb8fa28",
   "metadata": {},
   "outputs": [],
   "source": [
    "df = pd.read_csv(\"sample_employees.csv\")"
   ]
  },
  {
   "cell_type": "code",
   "execution_count": 12,
   "id": "ab33bf1c-bc26-492e-b493-84ab2d210354",
   "metadata": {},
   "outputs": [],
   "source": [
    "df = dc.drop_empty(df)"
   ]
  },
  {
   "cell_type": "code",
   "execution_count": 14,
   "id": "9057bfb4-8be2-4cd1-a771-04952ee2ec6d",
   "metadata": {},
   "outputs": [],
   "source": [
    "df = dc.fill_empty(df, 'bonus')"
   ]
  },
  {
   "cell_type": "code",
   "execution_count": 21,
   "id": "24296f2e-ac0a-478c-bcc1-34c5c2c069ae",
   "metadata": {},
   "outputs": [
    {
     "ename": "NameError",
     "evalue": "name 'fix_index' is not defined",
     "output_type": "error",
     "traceback": [
      "\u001b[1;31m---------------------------------------------------------------------------\u001b[0m",
      "\u001b[1;31mNameError\u001b[0m                                 Traceback (most recent call last)",
      "Cell \u001b[1;32mIn[21], line 1\u001b[0m\n\u001b[1;32m----> 1\u001b[0m dc \u001b[38;5;241m=\u001b[39m \u001b[43mfix_index\u001b[49m(df)\n",
      "\u001b[1;31mNameError\u001b[0m: name 'fix_index' is not defined"
     ]
    }
   ],
   "source": [
    "dc = fix_index(df)"
   ]
  },
  {
   "cell_type": "code",
   "execution_count": 20,
   "id": "bda08586-2dee-4039-a765-9a6d5a5e0ec7",
   "metadata": {},
   "outputs": [
    {
     "ename": "AttributeError",
     "evalue": "'function' object has no attribute 'reset_index'",
     "output_type": "error",
     "traceback": [
      "\u001b[1;31m---------------------------------------------------------------------------\u001b[0m",
      "\u001b[1;31mAttributeError\u001b[0m                            Traceback (most recent call last)",
      "Cell \u001b[1;32mIn[20], line 1\u001b[0m\n\u001b[1;32m----> 1\u001b[0m df \u001b[38;5;241m=\u001b[39m \u001b[43mdc\u001b[49m\u001b[38;5;241;43m.\u001b[39;49m\u001b[43mfix_index\u001b[49m\u001b[43m(\u001b[49m\u001b[43mdf\u001b[49m\u001b[43m)\u001b[49m\n",
      "File \u001b[1;32m~\\OneDrive\\Desktop\\LETU (2022-2024)\\Semester 5 (2024-2025)\\Intermediate Python\\GitHub\\intermediate-python-fall-2024\\Practices\\Week 04\\dataframe_cleaner\\__init__.py:13\u001b[0m, in \u001b[0;36mfix_index\u001b[1;34m(df)\u001b[0m\n\u001b[0;32m     12\u001b[0m \u001b[38;5;28;01mdef\u001b[39;00m \u001b[38;5;21mfix_index\u001b[39m(df):\n\u001b[1;32m---> 13\u001b[0m     \u001b[38;5;28;01mreturn\u001b[39;00m \u001b[43mdf\u001b[49m\u001b[38;5;241;43m.\u001b[39;49m\u001b[43mreset_index\u001b[49m(drop\u001b[38;5;241m=\u001b[39m\u001b[38;5;28;01mTrue\u001b[39;00m)\n",
      "\u001b[1;31mAttributeError\u001b[0m: 'function' object has no attribute 'reset_index'"
     ]
    }
   ],
   "source": [
    "df = dc.fix_index(df)"
   ]
  },
  {
   "cell_type": "code",
   "execution_count": null,
   "id": "c15c5842-e9db-4c61-b5ff-eb8c6f68ed9e",
   "metadata": {},
   "outputs": [],
   "source": [
    "df['e']"
   ]
  }
 ],
 "metadata": {
  "kernelspec": {
   "display_name": "Python 3 (ipykernel)",
   "language": "python",
   "name": "python3"
  },
  "language_info": {
   "codemirror_mode": {
    "name": "ipython",
    "version": 3
   },
   "file_extension": ".py",
   "mimetype": "text/x-python",
   "name": "python",
   "nbconvert_exporter": "python",
   "pygments_lexer": "ipython3",
   "version": "3.8.17"
  },
  "widgets": {
   "application/vnd.jupyter.widget-state+json": {
    "state": {},
    "version_major": 2,
    "version_minor": 0
   }
  }
 },
 "nbformat": 4,
 "nbformat_minor": 5
}
