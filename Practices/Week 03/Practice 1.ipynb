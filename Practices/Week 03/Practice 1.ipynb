{
 "cells": [
  {
   "cell_type": "markdown",
   "id": "f1a04536-8a07-42f3-b74c-72bd8f89ee63",
   "metadata": {},
   "source": [
    "# Object Oriented Programming Exercises\n",
    "\n",
    "Complete these exercises to test your skills!"
   ]
  },
  {
   "cell_type": "markdown",
   "id": "6be0dd52-0255-4085-a6a3-9e5ad978399c",
   "metadata": {},
   "source": [
    "## Exercise #1\n",
    "\n",
    "<!-- Create a class named \"Car\" that has two properties, **manufacturer** and **model**. -->\n",
    "* Create a class named *Vehicle* that has two properties, **vtype** and **made_year**\n",
    "* Create `__str__()` method to print out the **vtype** and **made_year**"
   ]
  },
  {
   "cell_type": "code",
   "execution_count": 5,
   "id": "5357465e-4a1f-4b29-a748-482024a16dd6",
   "metadata": {},
   "outputs": [],
   "source": [
    "class Vehicle():\n",
    "    def __init__(self, vtype, made_year):\n",
    "        self.vtype = vtype\n",
    "        self.made_year = made_year\n",
    "\n",
    "    def __str__(self):\n",
    "        return f\"Vehicle type is: {self.vtype} and Made year is: {self.made_year}\"\n",
    "        "
   ]
  },
  {
   "cell_type": "code",
   "execution_count": 9,
   "id": "59b9e947-2f77-4f7d-85ee-34d6f650067a",
   "metadata": {},
   "outputs": [
    {
     "name": "stdout",
     "output_type": "stream",
     "text": [
      "Vehicle type is: SUV and Made year is: 2024\n"
     ]
    }
   ],
   "source": [
    "jeep = Vehicle(\"SUV\", 2024)\n",
    "print(jeep)"
   ]
  },
  {
   "cell_type": "markdown",
   "id": "afe89b8d-3518-4925-8182-3f0ceec04ec0",
   "metadata": {},
   "source": [
    "## Exercise #2\n",
    "\n",
    "<!-- Create a child class named **Car** that inherits **Vehicle** class -->\n",
    "* Create a child class named **Car** that inherits a **Vehicle** and has two properties **manufacturer** and **model**.\n",
    "* Create `__str__()` method to print out the **vtype**, **made_year**, **manufacturer** and **model**"
   ]
  },
  {
   "cell_type": "code",
   "execution_count": 15,
   "id": "9b9168bc-0964-407b-8645-75dab95985d7",
   "metadata": {},
   "outputs": [],
   "source": [
    "class Car(Vehicle):\n",
    "    def __init__(self, vtype, made_year, manufacturer, model):\n",
    "        self.vtype = vtype\n",
    "        self.made_year =made_year\n",
    "        self.manufacturer = manufacturer\n",
    "        self.model = model\n",
    "        \n",
    "    def __str__(self):\n",
    "        return f\"\"\"\n",
    "            Vehicle type: {self.vtype}\n",
    "            Made year: {self.made_year}\n",
    "            Manufacturer: {self.manufacturer}\n",
    "            Model: {self.model}\n",
    "        \"\"\""
   ]
  },
  {
   "cell_type": "code",
   "execution_count": 16,
   "id": "db264da5-4566-446c-a6a3-10af71abce34",
   "metadata": {},
   "outputs": [
    {
     "name": "stdout",
     "output_type": "stream",
     "text": [
      "\n",
      "            Vehicle type: SUV\n",
      "            Made year: 2024\n",
      "            Manufacturer: Toyota\n",
      "            Model: Land Cruiser\n",
      "        \n"
     ]
    }
   ],
   "source": [
    "car1 = Car(\"SUV\", 2024, \"Toyota\", \"Land Cruiser\")\n",
    "print(car1)"
   ]
  },
  {
   "cell_type": "markdown",
   "id": "3364303e-1f8a-4922-92c0-39c4c752bf51",
   "metadata": {},
   "source": [
    "## Exercise #3\n",
    "\n",
    "Instantiate **Car** class and call the **__str__** method.\n",
    "\n",
    "Example: calling **Car** class with \"toyota\" and \"Highlander\" should print out the following:\n",
    "```\n",
    "Type is:  SUV\n",
    "Made year is:  2015\n",
    "Manufacturer is:  toyota\n",
    "Model is:  Highlander\n",
    "```"
   ]
  },
  {
   "cell_type": "code",
   "execution_count": 17,
   "id": "d8850031-f1f4-413d-acd2-48e061db2e73",
   "metadata": {},
   "outputs": [
    {
     "name": "stdout",
     "output_type": "stream",
     "text": [
      "\n",
      "            Vehicle type: SUV\n",
      "            Made year: 2024\n",
      "            Manufacturer: Toyota\n",
      "            Model: Land Cruiser\n",
      "        \n"
     ]
    }
   ],
   "source": [
    "print(car1.__str__())"
   ]
  }
 ],
 "metadata": {
  "kernelspec": {
   "display_name": "Python 3 (ipykernel)",
   "language": "python",
   "name": "python3"
  },
  "language_info": {
   "codemirror_mode": {
    "name": "ipython",
    "version": 3
   },
   "file_extension": ".py",
   "mimetype": "text/x-python",
   "name": "python",
   "nbconvert_exporter": "python",
   "pygments_lexer": "ipython3",
   "version": "3.12.3"
  }
 },
 "nbformat": 4,
 "nbformat_minor": 5
}
