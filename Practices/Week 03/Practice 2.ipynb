{
 "cells": [
  {
   "cell_type": "markdown",
   "id": "78b31c65-89e4-4751-a75a-57cdf66fea7b",
   "metadata": {},
   "source": [
    "### Part 1: Animal Class\n",
    "\n",
    "1. Define an `Animal` class with the following attributes:\n",
    "    * `name`: a string representing the animal's name.\n",
    "    * `species`: a string representing the animal's species.\n",
    "    * `age`: an integer representing the animal's age.\n",
    "\n",
    "   And the following methods:\n",
    "   * A `__str__` method to return the animal's name when printed."
   ]
  },
  {
   "cell_type": "code",
   "execution_count": 2,
   "id": "b7630a98-2d27-4eef-a572-be682a61e7f8",
   "metadata": {},
   "outputs": [
    {
     "name": "stdout",
     "output_type": "stream",
     "text": [
      "\n",
      "        Name: Jaki\n",
      "        Species: Mammal\n",
      "        Age: 2\n",
      "        \n"
     ]
    }
   ],
   "source": [
    "# Part 1: Animal Class\n",
    "class Animal:\n",
    "    def __init__(self, name, species, age):\n",
    "        self.name = name\n",
    "        self.species = species\n",
    "        self.age = age\n",
    "\n",
    "    def __str__(self):\n",
    "        return f\"\"\"\n",
    "        Name: {self.name}\n",
    "        Species: {self.species}\n",
    "        Age: {self.age}\n",
    "        \"\"\"\n",
    "a1 = Animal(\"Jaki\", \"Mammal\", 2)\n",
    "print(a1)"
   ]
  },
  {
   "cell_type": "markdown",
   "id": "e392f19b-728b-451d-a81a-d8cc78f8358a",
   "metadata": {},
   "source": [
    "### Part 2: Mammal, Bird, and Fish Classes\n",
    "\n",
    "1. Create three subclasses: `Mammal`, `Bird`, and `Fish`. Each should inherit from the `Animal` class.\n",
    "\n",
    "   Additional attributes:\n",
    "   * `Mammal` should have `legs` (number of legs) and `is_domesticated` (boolean).\n",
    "   * `Bird` should have `wingspan` (in meters) and `can_fly` (boolean).\n",
    "   * `Fish` should have `fins` (number of fins) and `is_freshwater` (boolean).\n",
    "\n",
    "   Each subclass should also override the `__str__` method to provide more detailed information about the animal."
   ]
  },
  {
   "cell_type": "code",
   "execution_count": 7,
   "id": "f50b5009-5388-4d06-a70b-6ea407a15c54",
   "metadata": {},
   "outputs": [
    {
     "name": "stdout",
     "output_type": "stream",
     "text": [
      "\n",
      "        \n",
      "        Name: Jaki\n",
      "        Species: Dogs\n",
      "        Age: 2\n",
      "        \n",
      "        Legs: 4\n",
      "        Is domesticated: True\n",
      "        \n",
      "\n",
      "        \n",
      "        Name: Pengu\n",
      "        Species: Penguin\n",
      "        Age: 3\n",
      "        \n",
      "        Wingspan: 1.5\n",
      "        Can fly: False\n",
      "        \n",
      "\n",
      "        \n",
      "        Name: Goldie\n",
      "        Species: Fish\n",
      "        Age: 1\n",
      "        \n",
      "        Number of fins: 2\n",
      "        Lives on freshwater: True\n",
      "        \n"
     ]
    }
   ],
   "source": [
    "# Part 2: Mammal, Bird, and Fish Classes\n",
    "class Mammal(Animal):\n",
    "    def __init__(self, name, species, age, legs, is_domesticated):\n",
    "        # self.name = name\n",
    "        # self.species = species\n",
    "        # self.age = age\n",
    "        super().__init__(name, species, age)\n",
    "        self.legs = legs\n",
    "        self.is_domesticated = is_domesticated\n",
    "\n",
    "    def __str__(self):\n",
    "        # return f\"\"\"\n",
    "        # Name: {self.name}\n",
    "        # Species: {self.species}\n",
    "        # Age: {self.age}\n",
    "        # Legs: {self.legs}\n",
    "        # Is domesticated: {self.is_domesticated}\n",
    "        # \"\"\"\n",
    "        return f\"\"\"\n",
    "        {super().__str__()}\n",
    "        Legs: {self.legs}\n",
    "        Is domesticated: {self.is_domesticated}\n",
    "        \"\"\"\n",
    "class Bird(Animal):\n",
    "    def __init__(self, name, species, age, wingspan, can_fly):\n",
    "        super().__init__(name, species, age)\n",
    "        self.wingspan = wingspan\n",
    "        self.can_fly = can_fly\n",
    "\n",
    "    def __str__(self):\n",
    "        return f\"\"\"\n",
    "        {super().__str__()}\n",
    "        Wingspan: {self.wingspan}\n",
    "        Can fly: {self.can_fly}\n",
    "        \"\"\"\n",
    "\n",
    "class Fish(Animal):\n",
    "    def __init__(self, name, species, age, fins, is_freshwater):\n",
    "        super().__init__(name, species, age)\n",
    "        self.fins = fins\n",
    "        self.is_freshwater = is_freshwater\n",
    "\n",
    "    def __str__(self):\n",
    "        return f\"\"\"\n",
    "        {super().__str__()}\n",
    "        Number of fins: {self.fins}\n",
    "        Lives on freshwater: {self.is_freshwater}\n",
    "        \"\"\"\n",
    "\n",
    "animal1 = Mammal(\"Jaki\", \"Dogs\", 2, 4, True)\n",
    "print(animal1)\n",
    "\n",
    "animal2 = Bird(\"Pengu\", \"Penguin\", 3, 1.5, False)\n",
    "print(animal2)\n",
    "\n",
    "animal3 = Fish(\"Goldie\", \"Fish\", 1, 2, True)\n",
    "print(animal3)\n"
   ]
  },
  {
   "cell_type": "markdown",
   "id": "0b4d42a4-02c5-4789-8762-0be3ab3acc62",
   "metadata": {},
   "source": [
    "### Part 3: Zoo Class\n",
    "\n",
    "1. Define a `Zoo` class with the following attributes:\n",
    "    * `name`: a string representing the zoo's name.\n",
    "    * `animals`: a list containing instances of the animal classes.\n",
    "\n",
    "   And the following methods:\n",
    "   * `add_animal(self, animal)`: A method to add an animal to the zoo.\n",
    "   * `remove_animal(self, name)`: A method to remove an animal from the zoo using its name.\n",
    "   * `find_animal(self, name)`: A method to find an animal by its name. If the animal is found, print its details, otherwise print \"Animal not found.\"\n",
    "   * `list_animals(self)`: A method to print all the animals in the zoo."
   ]
  },
  {
   "cell_type": "code",
   "execution_count": 20,
   "id": "a75a5c83-acdf-46bc-9d87-48a31a6ed9c2",
   "metadata": {},
   "outputs": [],
   "source": [
    "# Part 3: Zoo Class\n",
    "class Zoo():\n",
    "    animals = []\n",
    "\n",
    "    def add_animal(self, animal):\n",
    "        animals += [animal]\n",
    "\n",
    "    def remove_animal(self, animal):\n",
    "        temp_animals = []\n",
    "        for current_animal in animals:\n",
    "            if animal != current_animal:\n",
    "               temp_animals += [current_animal] \n",
    "        animals = temp_animals\n"
   ]
  },
  {
   "cell_type": "markdown",
   "id": "84283f4f-3e95-4cf0-9966-0bc5493c8c7b",
   "metadata": {},
   "source": [
    "### Part 4: Putting It All Together\n",
    "\n",
    "1. Create instances of `Mammal`(Dog named \"Buddy\"), `Bird`(Bird named \"Eagle Eye\"), and `Fish`(Fish named \"Goldie\").\n",
    "2. Create an instance of the `Zoo` class.\n",
    "3. Add the animals to the zoo.\n",
    "4. List all the animals in the zoo.\n",
    "5. Find an animal named \"Buddy\"\n",
    "6. Remove an animal named \"Goldie\".\n",
    "7. List all the animals in the zoo and check if \"Goldie\" is removed."
   ]
  },
  {
   "cell_type": "code",
   "execution_count": 21,
   "id": "1fcc4979-c6d2-461e-a14b-244cb12aad91",
   "metadata": {},
   "outputs": [],
   "source": [
    "# Part 4: Tests\n"
   ]
  },
  {
   "cell_type": "code",
   "execution_count": null,
   "id": "ef7d1e3e-5f28-4a04-bc0b-be32ae026a1c",
   "metadata": {},
   "outputs": [],
   "source": []
  }
 ],
 "metadata": {
  "kernelspec": {
   "display_name": "Python 3 (ipykernel)",
   "language": "python",
   "name": "python3"
  },
  "language_info": {
   "codemirror_mode": {
    "name": "ipython",
    "version": 3
   },
   "file_extension": ".py",
   "mimetype": "text/x-python",
   "name": "python",
   "nbconvert_exporter": "python",
   "pygments_lexer": "ipython3",
   "version": "3.12.3"
  }
 },
 "nbformat": 4,
 "nbformat_minor": 5
}
